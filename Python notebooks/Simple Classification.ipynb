{
 "cells": [
  {
   "cell_type": "code",
   "execution_count": 3,
   "id": "5841c3ff",
   "metadata": {},
   "outputs": [],
   "source": [
    "import numpy as np\n",
    "import pandas as pd\n",
    "# import matplotlib.pyplot as plt\n",
    "\n",
    "import os\n",
    "\n",
    "from sklearn import linear_model\n",
    "from sklearn import metrics\n",
    "from sklearn.decomposition import PCA"
   ]
  },
  {
   "cell_type": "code",
   "execution_count": 1,
   "id": "31749382",
   "metadata": {},
   "outputs": [
    {
     "ename": "FileNotFoundError",
     "evalue": "[Errno 2] No such file or directory: 'E:\\\\Leak Detection Project\\\\Hanoi_CMH'",
     "output_type": "error",
     "traceback": [
      "\u001b[0;31m---------------------------------------------------------------------------\u001b[0m",
      "\u001b[0;31mFileNotFoundError\u001b[0m                         Traceback (most recent call last)",
      "Cell \u001b[0;32mIn[1], line 1\u001b[0m\n\u001b[0;32m----> 1\u001b[0m folders \u001b[39m=\u001b[39m os\u001b[39m.\u001b[39;49mlistdir(\u001b[39m'\u001b[39;49m\u001b[39mE:\u001b[39;49m\u001b[39m\\\u001b[39;49m\u001b[39mLeak Detection Project\u001b[39;49m\u001b[39m\\\u001b[39;49m\u001b[39mHanoi_CMH\u001b[39;49m\u001b[39m'\u001b[39;49m) \u001b[39m#You can also use full path.\u001b[39;00m\n\u001b[1;32m      2\u001b[0m folders\u001b[39m.\u001b[39mremove(\u001b[39m'\u001b[39m\u001b[39mHanoi_CMH.inp\u001b[39m\u001b[39m'\u001b[39m)\n\u001b[1;32m      3\u001b[0m folders\u001b[39m.\u001b[39mremove(\u001b[39m'\u001b[39m\u001b[39mLabels.csv\u001b[39m\u001b[39m'\u001b[39m)\n",
      "\u001b[0;31mFileNotFoundError\u001b[0m: [Errno 2] No such file or directory: 'E:\\\\Leak Detection Project\\\\Hanoi_CMH'"
     ]
    }
   ],
   "source": [
    "folders = os.listdir('E:\\Leak Detection Project\\Hanoi_CMH') #You can also use full path.\n",
    "folders.remove('Hanoi_CMH.inp')\n",
    "folders.remove('Labels.csv')\n",
    "\n",
    "def Demands(Scenario):\n",
    "    '''\n",
    "    Importing all the Demands from the Scenario 1 into a Dataframe\n",
    "    '''\n",
    "\n",
    "    Demands_L = []\n",
    "    df1 = pd.read_csv (r\"E:\\Leak Detection Project\\Hanoi_CMH\\\\\" + Scenario + \"\\\\Demands\\\\Node_\" + str(1) + '.csv')\n",
    "    Demands_L.append(df1)\n",
    "    for i in range(2,33):\n",
    "        df = pd.read_csv (r\"E:\\Leak Detection Project\\Hanoi_CMH\\\\\"+ Scenario +\"\\\\Demands\\\\Node_\" + str(i) + '.csv')\n",
    "        df.rename(columns = {'Value':'Node'+str(i)}, inplace = True)\n",
    "        Demands_L.append(df['Node'+str(i)])\n",
    "\n",
    "    Demands = pd.concat(Demands_L, axis=1)\n",
    "    Demands.set_index(\"Index\", inplace = True)\n",
    "    Demands.rename(columns = {'Value':'Node1'}, inplace = True)\n",
    "    return Demands\n",
    "\n",
    "\n",
    "def Flows(Scenario):\n",
    "    '''\n",
    "    Importing all the Flows from the Scenario 1 into a Dataframe\n",
    "    '''\n",
    "\n",
    "    Flows_L = []\n",
    "    df1 = pd.read_csv (r'E:\\Leak Detection Project\\Hanoi_CMH\\\\'+ Scenario +'\\\\Flows\\\\Link_1.csv')\n",
    "    Flows_L.append(df1)\n",
    "    for i in range(2,35):\n",
    "        df = pd.read_csv (r\"E:\\Leak Detection Project\\Hanoi_CMH\\\\\"+ Scenario +\"\\\\Flows\\Link_\" + str(i) + '.csv')\n",
    "        df.rename(columns = {'Value':'Link'+str(i)}, inplace = True)\n",
    "        Flows_L.append(df['Link'+str(i)])\n",
    "\n",
    "    Flows = pd.concat(Flows_L, axis=1)\n",
    "    Flows.set_index(\"Index\", inplace = True)\n",
    "    Flows.rename(columns = {'Value':'Link1'}, inplace = True)\n",
    "    return Flows\n",
    "\n",
    "\n",
    "def Pressures(Scenario):\n",
    "    '''\n",
    "    Importing all the Pressures from the Scenario 1 into a Dataframe\n",
    "    '''\n",
    "    \n",
    "    Pressures_L = []\n",
    "    df1 = pd.read_csv (r\"E:\\Leak Detection Project\\Hanoi_CMH\\\\\"+ Scenario +\"\\\\Pressures\\\\Node_1.csv\")\n",
    "    Pressures_L.append(df1)\n",
    "    for i in range(2,33):\n",
    "        df = pd.read_csv (r\"E:\\Leak Detection Project\\Hanoi_CMH\\\\\"+ Scenario +\"\\\\Pressures\\\\Node_\" + str(i) + '.csv')\n",
    "        df.rename(columns = {'Value':'Node'+str(i)}, inplace = True)\n",
    "        Pressures_L.append(df['Node'+str(i)])\n",
    "\n",
    "    Pressures = pd.concat(Pressures_L, axis=1)\n",
    "    Pressures.set_index(\"Index\", inplace = True)\n",
    "    Pressures.rename(columns = {'Value':'Node1'}, inplace = True)\n",
    "    return Pressures\n",
    "\n",
    "#Importing all the Leaks\n",
    "Leaks = {}\n",
    "folders = os.listdir('E:\\Leak Detection Project\\Hanoi_CMH') #You can also use full path.\n",
    "folders.remove('Hanoi_CMH.inp')\n",
    "folders.remove('Labels.csv')\n",
    "\n",
    "for folder in folders:\n",
    "    Leak = []\n",
    "    files = os.listdir('E:\\Leak Detection Project\\Hanoi_CMH\\\\' + folder + '\\\\Leaks')\n",
    "    \n",
    "    if len(files) == 0 : \n",
    "        leak = None\n",
    "        Leak.append(leak)\n",
    "        Leaks[folder]= Leak\n",
    "    if len(files) > 0:\n",
    "        for i in range(1,len(files)+1,2):\n",
    "            leak = pd.read_csv(r\"E:\\Leak Detection Project\\Hanoi_CMH\"+ '\\\\' + folder +'\\\\' + 'Leaks\\\\' + files[i])\n",
    "            Leak.append(leak)\n",
    "            Leaks[folder] = Leak"
   ]
  },
  {
   "cell_type": "code",
   "execution_count": 3,
   "id": "adc07ef0",
   "metadata": {},
   "outputs": [
    {
     "name": "stdout",
     "output_type": "stream",
     "text": [
      "299\n"
     ]
    }
   ],
   "source": [
    "#Getting the attributes from the Flows from the dataset\n",
    "Seq = []\n",
    "for i in range(1,300):\n",
    "    df_ = Flows('Scenario-' + str(i))\n",
    "    Seq.append(df_.values.reshape(1,-1)[0])\n",
    "Seq\n",
    "\n",
    "#Getting the leak node from the leak database\n",
    "Seql = list()\n",
    "sc = list()\n",
    "\n",
    "for i in range(1,300):\n",
    "    try:\n",
    "        k = list()\n",
    "        for j in range(len(Leaks['Scenario-' + str(i)])):\n",
    "            k.append(int(Leaks['Scenario-' + str(i)][j].values[0][1]))\n",
    "        Seql.append(k)\n",
    "    except:\n",
    "        k = [0]\n",
    "        Seql.append(k)\n",
    "print(len(Seql))"
   ]
  },
  {
   "cell_type": "code",
   "execution_count": 4,
   "id": "b42dc1f4",
   "metadata": {},
   "outputs": [
    {
     "name": "stdout",
     "output_type": "stream",
     "text": [
      "1000\n",
      "763 237\n"
     ]
    },
    {
     "data": {
      "image/png": "[encoded data removed]",
      "text/plain": [
       "<Figure size 432x288 with 1 Axes>"
      ]
     },
     "metadata": {
      "needs_background": "dark"
     },
     "output_type": "display_data"
    }
   ],
   "source": [
    "LeakType = list()\n",
    "sc = list()\n",
    "\n",
    "for i in range(1,1001):\n",
    "    try:\n",
    "        k = list()\n",
    "        for j in range(len(Leaks['Scenario-' + str(i)])):\n",
    "            k.append(Leaks['Scenario-' + str(i)][j].values[3][1])\n",
    "        LeakType.append(k)\n",
    "    except:\n",
    "        k = [0]\n",
    "        LeakType.append(k)\n",
    "print(len(LeakType))\n",
    "\n",
    "abrupt, incipient = 0,0\n",
    "for i in LeakType:\n",
    "    for j in i:\n",
    "        if j == ' incipient': incipient = incipient + 1\n",
    "        if j == ' abrupt': abrupt = abrupt + 1\n",
    "# print(abrupt, incipient)\n",
    "\n",
    "Leaky, NonLeaky = 0,0\n",
    "for i in LeakType:\n",
    "    if i[0] == 0 : NonLeaky += 1\n",
    "    else: Leaky += 1\n",
    "print(Leaky, NonLeaky)\n",
    "\n",
    "# fig = plt.figure(121)\n",
    "# ax = fig.add_subplot(121)\n",
    "# plt.bar(x=['abrupt', 'incipient'], height=[506, 514], width = 0.3)\n",
    "# ax.xaxis.label.set_color('white') \n",
    "# ax.yaxis.label.set_color('white') \n",
    "# ax.tick_params(axis='x', colors='white')  \n",
    "# ax.tick_params(axis='y', colors='white')  \n",
    "\n",
    "fig = plt.figure(121)\n",
    "ax = fig.add_subplot(121)\n",
    "plt.bar(x=['Leaky Scenarios', 'Non-Leaky Scenarios'], height=[763, 237], width = 0.3)\n",
    "ax.xaxis.label.set_color('white') \n",
    "ax.yaxis.label.set_color('white') \n",
    "ax.tick_params(axis='x', colors='white')  \n",
    "ax.tick_params(axis='y', colors='white') "
   ]
  },
  {
   "cell_type": "code",
   "execution_count": 5,
   "id": "c15f6e53",
   "metadata": {},
   "outputs": [
    {
     "data": {
      "text/plain": [
       "' abrupt'"
      ]
     },
     "execution_count": 5,
     "metadata": {},
     "output_type": "execute_result"
    }
   ],
   "source": [
    "# Leaks['Scenario-' + str(i)][j].values[0][1]\n",
    "Leaks['Scenario-4'][0].values[3][1]"
   ]
  },
  {
   "cell_type": "code",
   "execution_count": 6,
   "id": "cd1786d9",
   "metadata": {},
   "outputs": [
    {
     "name": "stdout",
     "output_type": "stream",
     "text": [
      "[0, 1, 1, 1, 0, 1, 1, 1, 1, 0, 1, 0, 1, 0, 1, 1, 1, 1, 1, 1, 1, 1, 1, 1, 1, 1, 0, 0, 0, 1, 1, 1, 1, 1, 1, 1, 1, 1, 1, 1, 1, 1, 1, 0, 1, 1, 1, 0, 1, 1, 1, 1, 0, 1, 0, 1, 1, 1, 1, 1, 1, 1, 1, 1, 0, 1, 0, 1, 1, 1, 1, 1, 1, 1, 0, 1, 0, 1, 1, 1, 0, 1, 0, 1, 1, 1, 1, 1, 1, 1, 1, 0, 1, 1, 1, 0, 1, 1, 1, 0, 1, 1, 1, 1, 1, 1, 0, 1, 1, 1, 1, 0, 1, 1, 1, 1, 1, 1, 1, 0, 1, 0, 1, 1, 1, 1, 1, 1, 0, 1, 0, 1, 1, 1, 1, 0, 0, 1, 1, 1, 1, 0, 1, 1, 1, 0, 1, 1, 0, 1, 1, 1, 1, 1, 0, 1, 0, 1, 1, 0, 0, 1, 0, 0, 1, 0, 1, 0, 1, 1, 0, 1, 0, 1, 1, 1, 1, 1, 1, 0, 0, 1, 1, 1, 1, 1, 1, 1, 1, 1, 1, 1, 1, 1, 0, 1, 0, 1, 1, 1, 0, 1, 1, 1, 0, 1, 1, 1, 1, 0, 1, 1, 1, 1, 1, 1, 1, 1, 0, 1, 0, 1, 1, 1, 1, 1, 1, 1, 1, 1, 0, 1, 1, 1, 1, 1, 0, 0, 0, 0, 1, 1, 1, 1, 1, 1, 1, 1, 0, 1, 0, 1, 1, 1, 1, 1, 1, 1, 1, 1, 1, 1, 1, 1, 1, 1, 0, 1, 1, 1, 1, 1, 1, 0, 0, 1, 1, 1, 1, 0, 1, 1, 1, 1, 1, 1, 1, 1, 0, 1, 0, 1, 1, 1, 1, 1, 0, 1, 1]\n"
     ]
    }
   ],
   "source": [
    "target = []\n",
    "for i in Seql:\n",
    "    if i[0] ==  0:\n",
    "        target.append(0)\n",
    "    else: target.append(1)\n",
    "print(target)"
   ]
  },
  {
   "cell_type": "code",
   "execution_count": 7,
   "id": "10a2043e",
   "metadata": {},
   "outputs": [],
   "source": [
    "# #Creating a dataframe for the target values to be used in the Decision Tree classifier shape = (100,32) using pressures\n",
    "# cols = [i for i in range(1,33)]\n",
    "# ind = [i for i in range(1,len(Seql)+1)]\n",
    "# target = pd.DataFrame(np.zeros((len(Seql),32)), columns = cols, index = ind)\n",
    "\n",
    "# for i in range(len(Seql)):\n",
    "#     for j in range(len(Seql[i])):\n",
    "#         if Seql[i][j] == 0 : continue\n",
    "#         target[Seql[i][j]][i+1] = 1\n",
    "\n",
    "# target"
   ]
  },
  {
   "cell_type": "code",
   "execution_count": 2,
   "id": "a4216d15",
   "metadata": {},
   "outputs": [
    {
     "ename": "NameError",
     "evalue": "name 'Seq' is not defined",
     "output_type": "error",
     "traceback": [
      "\u001b[1;31m---------------------------------------------------------------------------\u001b[0m",
      "\u001b[1;31mNameError\u001b[0m                                 Traceback (most recent call last)",
      "\u001b[1;32mC:\\Users\\PARIMI~1\\AppData\\Local\\Temp/ipykernel_31960/3694093909.py\u001b[0m in \u001b[0;36m<module>\u001b[1;34m\u001b[0m\n\u001b[0;32m      1\u001b[0m \u001b[1;31m#Splitting the data into train set\u001b[0m\u001b[1;33m\u001b[0m\u001b[1;33m\u001b[0m\u001b[0m\n\u001b[1;32m----> 2\u001b[1;33m \u001b[0mtrainx\u001b[0m \u001b[1;33m=\u001b[0m \u001b[0mSeq\u001b[0m\u001b[1;33m[\u001b[0m\u001b[1;33m:\u001b[0m\u001b[1;36m240\u001b[0m\u001b[1;33m]\u001b[0m\u001b[1;33m\u001b[0m\u001b[1;33m\u001b[0m\u001b[0m\n\u001b[0m\u001b[0;32m      3\u001b[0m \u001b[0mtrainy\u001b[0m \u001b[1;33m=\u001b[0m \u001b[0mtarget\u001b[0m\u001b[1;33m[\u001b[0m\u001b[1;33m:\u001b[0m\u001b[1;36m240\u001b[0m\u001b[1;33m]\u001b[0m\u001b[1;33m\u001b[0m\u001b[1;33m\u001b[0m\u001b[0m\n\u001b[0;32m      4\u001b[0m \u001b[0mtrainx\u001b[0m\u001b[1;33m[\u001b[0m\u001b[1;36m0\u001b[0m\u001b[1;33m]\u001b[0m\u001b[1;33m.\u001b[0m\u001b[0mshape\u001b[0m\u001b[1;33m\u001b[0m\u001b[1;33m\u001b[0m\u001b[0m\n\u001b[0;32m      5\u001b[0m \u001b[0mprint\u001b[0m\u001b[1;33m(\u001b[0m\u001b[0mtrainy\u001b[0m\u001b[1;33m)\u001b[0m\u001b[1;33m\u001b[0m\u001b[1;33m\u001b[0m\u001b[0m\n",
      "\u001b[1;31mNameError\u001b[0m: name 'Seq' is not defined"
     ]
    }
   ],
   "source": [
    "#Splitting the data into train set\n",
    "trainx = Seq[:240] \n",
    "trainy = target[:240]\n",
    "trainx[0].shape\n",
    "print(trainy)\n",
    "\n",
    "#Splitting the data into the test set\n",
    "testx = Seq[240:]\n",
    "testy = target[240:]\n",
    "print(testy)"
   ]
  },
  {
   "cell_type": "code",
   "execution_count": 9,
   "id": "5ddb3307",
   "metadata": {},
   "outputs": [
    {
     "data": {
      "text/plain": [
       "DecisionTreeClassifier(random_state=0)"
      ]
     },
     "execution_count": 9,
     "metadata": {},
     "output_type": "execute_result"
    }
   ],
   "source": [
    "from sklearn.tree import DecisionTreeClassifier\n",
    "\n",
    "clf = DecisionTreeClassifier(random_state=0)\n",
    "clf.fit(trainx, trainy)"
   ]
  },
  {
   "cell_type": "code",
   "execution_count": 10,
   "id": "285a3f23",
   "metadata": {},
   "outputs": [
    {
     "name": "stdout",
     "output_type": "stream",
     "text": [
      "1.0\n",
      "0.6440677966101694\n",
      "6\n"
     ]
    }
   ],
   "source": [
    "print(clf.score(trainx,trainy))\n",
    "print(clf.score(testx,testy))\n",
    "print(clf.get_depth())"
   ]
  },
  {
   "cell_type": "markdown",
   "id": "6e7ae31e",
   "metadata": {},
   "source": [
    "## Random Forest "
   ]
  },
  {
   "cell_type": "code",
   "execution_count": 12,
   "id": "4f7dcc5f",
   "metadata": {},
   "outputs": [
    {
     "name": "stdout",
     "output_type": "stream",
     "text": [
      "1.0\n",
      "0.7796610169491526\n"
     ]
    }
   ],
   "source": [
    "#Without any hyperparameter tuning\n",
    "from sklearn.ensemble import RandomForestClassifier\n",
    "clf_rf = RandomForestClassifier()\n",
    "clf_rf.fit(trainx,trainy)\n",
    "\n",
    "print(clf_rf.score(trainx,trainy))\n",
    "print(clf_rf.score(testx,testy))\n"
   ]
  },
  {
   "cell_type": "code",
   "execution_count": 13,
   "id": "063548ec",
   "metadata": {},
   "outputs": [
    {
     "name": "stdout",
     "output_type": "stream",
     "text": [
      "{'bootstrap': [True, False],\n",
      " 'max_depth': [1, 2, 3, 4, 5, 6, 7, 8, 9, 10, 11, 12, 13, 14, 15, None],\n",
      " 'max_features': ['auto', 'sqrt'],\n",
      " 'min_samples_leaf': [1, 2, 4],\n",
      " 'min_samples_split': [2, 5, 10],\n",
      " 'n_estimators': [10, 20, 30, 40, 50, 60, 70, 80, 90, 100]}\n",
      "Fitting 3 folds for each of 10 candidates, totalling 30 fits\n",
      "{'n_estimators': 70, 'min_samples_split': 5, 'min_samples_leaf': 1, 'max_features': 'sqrt', 'max_depth': 3, 'bootstrap': True}\n"
     ]
    }
   ],
   "source": [
    "from sklearn.model_selection import RandomizedSearchCV\n",
    "from sklearn.ensemble import RandomForestClassifier\n",
    "from pprint import pprint\n",
    "\n",
    "# Number of trees in random forest\n",
    "n_estimators = [int(x) for x in np.linspace(start = 10, stop = 100, num = 10)]\n",
    "# Number of features to consider at every split\n",
    "max_features = ['auto', 'sqrt']\n",
    "# Maximum number of levels in tree\n",
    "max_depth = [int(x) for x in np.linspace(1, 15, num = 15)]\n",
    "max_depth.append(None)\n",
    "# Minimum number of samples required to split a node\n",
    "min_samples_split = [2, 5, 10]\n",
    "# Minimum number of samples required at each leaf node\n",
    "min_samples_leaf = [1, 2, 4]\n",
    "# Method of selecting samples for training each tree\n",
    "bootstrap = [True, False]\n",
    "# Create the random grid\n",
    "random_grid = {'n_estimators': n_estimators,\n",
    "               'max_features': max_features,\n",
    "               'max_depth': max_depth,\n",
    "               'min_samples_split': min_samples_split,\n",
    "               'min_samples_leaf': min_samples_leaf,\n",
    "               'bootstrap': bootstrap}\n",
    "pprint(random_grid)\n",
    "# Use the random grid to search for best hyperparameters\n",
    "# First create the base model to tune\n",
    "rf = RandomForestClassifier()\n",
    "# Random search of parameters, using 3 fold cross validation, \n",
    "# search across 100 different combinations, and use all available cores\n",
    "rf_random = RandomizedSearchCV(estimator = rf, param_distributions = random_grid, n_iter = 10, cv = 3, verbose=2, random_state=42, n_jobs = -1)\n",
    "# Fit the random search model\n",
    "rf_random.fit(trainx, trainy)\n",
    "\n",
    "print(rf_random.best_params_)"
   ]
  },
  {
   "cell_type": "code",
   "execution_count": 1,
   "id": "c34e0712",
   "metadata": {},
   "outputs": [
    {
     "ename": "NameError",
     "evalue": "name 'trainx' is not defined",
     "output_type": "error",
     "traceback": [
      "\u001b[1;31m---------------------------------------------------------------------------\u001b[0m",
      "\u001b[1;31mNameError\u001b[0m                                 Traceback (most recent call last)",
      "\u001b[1;32mC:\\Users\\PARIMI~1\\AppData\\Local\\Temp/ipykernel_31960/2791043630.py\u001b[0m in \u001b[0;36m<module>\u001b[1;34m\u001b[0m\n\u001b[0;32m      6\u001b[0m                                   \u001b[0mmax_depth\u001b[0m\u001b[1;33m=\u001b[0m \u001b[1;36m3\u001b[0m\u001b[1;33m,\u001b[0m\u001b[1;33m\u001b[0m\u001b[1;33m\u001b[0m\u001b[0m\n\u001b[0;32m      7\u001b[0m                                  bootstrap= True)\n\u001b[1;32m----> 8\u001b[1;33m \u001b[0mclf_rf\u001b[0m\u001b[1;33m.\u001b[0m\u001b[0mfit\u001b[0m\u001b[1;33m(\u001b[0m\u001b[0mtrainx\u001b[0m\u001b[1;33m,\u001b[0m \u001b[0mtrainy\u001b[0m\u001b[1;33m)\u001b[0m\u001b[1;33m\u001b[0m\u001b[1;33m\u001b[0m\u001b[0m\n\u001b[0m\u001b[0;32m      9\u001b[0m \u001b[1;33m\u001b[0m\u001b[0m\n\u001b[0;32m     10\u001b[0m \u001b[0mprint\u001b[0m\u001b[1;33m(\u001b[0m\u001b[0mclf_rf\u001b[0m\u001b[1;33m.\u001b[0m\u001b[0mscore\u001b[0m\u001b[1;33m(\u001b[0m\u001b[0mtrainx\u001b[0m\u001b[1;33m,\u001b[0m\u001b[0mtrainy\u001b[0m\u001b[1;33m)\u001b[0m\u001b[1;33m)\u001b[0m\u001b[1;33m\u001b[0m\u001b[1;33m\u001b[0m\u001b[0m\n",
      "\u001b[1;31mNameError\u001b[0m: name 'trainx' is not defined"
     ]
    }
   ],
   "source": [
    "from sklearn.ensemble import RandomForestClassifier\n",
    "clf_rf = RandomForestClassifier(n_estimators= 70,\n",
    "                               min_samples_split = 5,\n",
    "                              min_samples_leaf = 1,\n",
    "                                 max_features= 'sqrt',\n",
    "                                  max_depth= 3,\n",
    "                                 bootstrap= True)\n",
    "clf_rf.fit(trainx, trainy)\n",
    "\n",
    "print(clf_rf.score(trainx,trainy))\n",
    "print(clf_rf.score(testx,testy))"
   ]
  },
  {
   "cell_type": "code",
   "execution_count": 15,
   "id": "3a057ab6",
   "metadata": {},
   "outputs": [
    {
     "data": {
      "text/plain": [
       "DecisionTreeClassifier(max_depth=2, max_features='auto', min_samples_leaf=2,\n",
       "                       random_state=209652396)"
      ]
     },
     "execution_count": 15,
     "metadata": {},
     "output_type": "execute_result"
    }
   ],
   "source": [
    "clf_rf.estimators_[0]"
   ]
  },
  {
   "cell_type": "code",
   "execution_count": 16,
   "id": "1de88bdb",
   "metadata": {},
   "outputs": [
    {
     "name": "stdout",
     "output_type": "stream",
     "text": [
      "[1, 2, 3, 4, 5, 6, 7, 8, 9]\n"
     ]
    }
   ],
   "source": [
    "print([i for i in range(1,10)])"
   ]
  },
  {
   "cell_type": "code",
   "execution_count": null,
   "id": "6164a1dd",
   "metadata": {},
   "outputs": [],
   "source": [
    "# from sklearn.tree import export_graphviz\n",
    "# # Export as dot file\n",
    "# export_graphviz(clf_rf, out_file='tree.dot', \n",
    "# #                 feature_names = iris.feature_names,\n",
    "#                 class_names = [i for i in range(1,33)],\n",
    "#                 rounded = True, proportion = False, \n",
    "#                 precision = 2, filled = True)\n",
    "\n",
    "# # Convert to png using system command (requires Graphviz)\n",
    "# from subprocess import call\n",
    "# call(['dot', '-Tpng', 'tree.dot', '-o', 'tree.png', '-Gdpi=600'])\n",
    "\n",
    "# # Display in jupyter notebook\n",
    "# from IPython.display import Image\n",
    "# Image(filename = 'tree.png')\n",
    "\n",
    "from sklearn import tree\n",
    "fig = plt.figure(figsize=(25,20))\n",
    "# fn=data.feature_names\n",
    "# cn=data.target_names\n",
    "fig, axes = plt.subplots(nrows = 1,ncols = 1,figsize = (4,4), dpi=800)\n",
    "tree.plot_tree(clf_rf.estimators_[0],\n",
    "               feature_names = [str(i) for i in range(1, len(trainx[0]+1))], \n",
    "               class_names=[str(i) for i in range(1,33)],\n",
    "               filled = True);\n",
    "fig.savefig('rf_individualtree.png')"
   ]
  },
  {
   "cell_type": "code",
   "execution_count": 17,
   "id": "c81b62b1",
   "metadata": {},
   "outputs": [
    {
     "name": "stdout",
     "output_type": "stream",
     "text": [
      "0.8125\n",
      "0.8305084745762712\n",
      "[[ 0  9]\n",
      " [ 1 49]]\n"
     ]
    },
    {
     "data": {
      "image/png": "[encoded data removed]",
      "text/plain": [
       "<Figure size 432x288 with 2 Axes>"
      ]
     },
     "metadata": {
      "needs_background": "light"
     },
     "output_type": "display_data"
    }
   ],
   "source": [
    "print(clf_rf.score(trainx,trainy))\n",
    "print(clf_rf.score(testx,testy))\n",
    "from sklearn.metrics import confusion_matrix\n",
    "\n",
    "# Visualise classical Confusion M0atrix\n",
    "from sklearn.metrics import confusion_matrix\n",
    "CM = confusion_matrix(testy, clf_rf.predict(testx))\n",
    "print(CM)\n",
    "\n",
    "# Visualize it as a heatmap\n",
    "import seaborn\n",
    "seaborn.heatmap(CM)\n",
    "plt.show()"
   ]
  },
  {
   "cell_type": "markdown",
   "id": "af69ad0e",
   "metadata": {},
   "source": [
    "# Deep Learining models"
   ]
  },
  {
   "cell_type": "code",
   "execution_count": null,
   "id": "8d8ff046",
   "metadata": {},
   "outputs": [],
   "source": [
    "from tensorflow.keras import Sequential\n",
    "from tensorflow.keras.layers import Dense, Flatten\n",
    "from tensorflow.keras import datasets, layers, models\n",
    "from keras import metrics\n",
    "\n",
    "model = Sequential()\n",
    "\n",
    "model.add(layers.Conv2D(2, kernel_size=3, strides=1, activation='relu', name = 'conv0',input_shape=(17520, 34,1)))\n",
    "model.add(layers.MaxPooling2D((2, 2)))\n",
    "model.add(layers.Conv2D(2, kernel_size=3, strides=1, activation='relu',name = 'conv1'))\n",
    "\n",
    "model.add(Flatten())\n",
    "model.add(Dense(64, activation='relu'))\n",
    "model.add(Dense(64, activation='relu'))\n",
    "model.add(Dense(32, activation='sigmoid'))\n",
    "\n",
    "model.compile(loss='binary_crossentropy', optimizer='adam', metrics=['accuracy'])\n",
    "print(model.summary())\n",
    "\n",
    "history = model.fit(\n",
    "    trainx,\n",
    "    trainy,\n",
    "    validation_data = (testx,testy),\n",
    "    batch_size=48,\n",
    "    epochs=10)\n",
    "\n",
    "model.predict(testx)"
   ]
  },
  {
   "cell_type": "code",
   "execution_count": null,
   "id": "e1e0ff36",
   "metadata": {},
   "outputs": [],
   "source": []
  },
  {
   "cell_type": "code",
   "execution_count": null,
   "id": "db2f3618",
   "metadata": {},
   "outputs": [],
   "source": []
  }
 ],
 "metadata": {
  "kernelspec": {
   "display_name": "leakenv",
   "language": "python",
   "name": "python3"
  },
  "language_info": {
   "codemirror_mode": {
    "name": "ipython",
    "version": 3
   },
   "file_extension": ".py",
   "mimetype": "text/x-python",
   "name": "python",
   "nbconvert_exporter": "python",
   "pygments_lexer": "ipython3",
   "version": "3.10.9"
  },
  "vscode": {
   "interpreter": {
    "hash": "4a4c6cae9911668d9b4da348c5b3fdcf5762a80e1c8fbc64dd14e5c9c98ef4f1"
   }
  }
 },
 "nbformat": 4,
 "nbformat_minor": 5
}
